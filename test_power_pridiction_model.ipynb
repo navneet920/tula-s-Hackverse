{
 "cells": [
  {
   "cell_type": "code",
   "execution_count": 1,
   "id": "78466616-8e53-405c-9a27-900d51488119",
   "metadata": {},
   "outputs": [],
   "source": [
    "import numpy as np\n",
    "import pandas as pd\n",
    "from sklearn.model_selection import train_test_split\n",
    "from sklearn.metrics import mean_squared_error\n",
    "from sklearn.preprocessing import LabelEncoder,MinMaxScaler\n",
    "import tensorflow as tf\n",
    "from tensorflow.keras.models import Sequential\n",
    "from tensorflow.keras.layers import Dense,LSTM"
   ]
  },
  {
   "cell_type": "code",
   "execution_count": 2,
   "id": "1c44f84d-7a81-4573-bc8c-829cccdb7f8f",
   "metadata": {},
   "outputs": [
    {
     "data": {
      "text/html": [
       "<div>\n",
       "<style scoped>\n",
       "    .dataframe tbody tr th:only-of-type {\n",
       "        vertical-align: middle;\n",
       "    }\n",
       "\n",
       "    .dataframe tbody tr th {\n",
       "        vertical-align: top;\n",
       "    }\n",
       "\n",
       "    .dataframe thead th {\n",
       "        text-align: right;\n",
       "    }\n",
       "</style>\n",
       "<table border=\"1\" class=\"dataframe\">\n",
       "  <thead>\n",
       "    <tr style=\"text-align: right;\">\n",
       "      <th></th>\n",
       "      <th>Timestamp</th>\n",
       "      <th>Power Load (MW)</th>\n",
       "      <th>Temperature (°C)</th>\n",
       "      <th>Humidity (%)</th>\n",
       "      <th>Wind Speed (km/h)</th>\n",
       "      <th>Rain (mm)</th>\n",
       "      <th>Public Holiday (0/1)</th>\n",
       "      <th>Weekday/Weekend (0/1)</th>\n",
       "      <th>Solar Generation (MW)</th>\n",
       "      <th>Region</th>\n",
       "      <th>Population Growth Rate (%)</th>\n",
       "    </tr>\n",
       "  </thead>\n",
       "  <tbody>\n",
       "    <tr>\n",
       "      <th>0</th>\n",
       "      <td>2015-01-01 00:00:00</td>\n",
       "      <td>918.373818</td>\n",
       "      <td>38.253605</td>\n",
       "      <td>89.370481</td>\n",
       "      <td>0.280318</td>\n",
       "      <td>8.062136</td>\n",
       "      <td>1</td>\n",
       "      <td>1</td>\n",
       "      <td>353.567576</td>\n",
       "      <td>South</td>\n",
       "      <td>0.045795</td>\n",
       "    </tr>\n",
       "    <tr>\n",
       "      <th>1</th>\n",
       "      <td>2015-01-01 01:00:00</td>\n",
       "      <td>1843.312844</td>\n",
       "      <td>15.214944</td>\n",
       "      <td>82.738678</td>\n",
       "      <td>6.643337</td>\n",
       "      <td>2.924700</td>\n",
       "      <td>0</td>\n",
       "      <td>0</td>\n",
       "      <td>365.597743</td>\n",
       "      <td>East</td>\n",
       "      <td>0.030522</td>\n",
       "    </tr>\n",
       "    <tr>\n",
       "      <th>2</th>\n",
       "      <td>2015-01-01 02:00:00</td>\n",
       "      <td>1180.126923</td>\n",
       "      <td>15.070492</td>\n",
       "      <td>20.579996</td>\n",
       "      <td>10.830845</td>\n",
       "      <td>9.643237</td>\n",
       "      <td>0</td>\n",
       "      <td>0</td>\n",
       "      <td>276.744449</td>\n",
       "      <td>East</td>\n",
       "      <td>0.041935</td>\n",
       "    </tr>\n",
       "    <tr>\n",
       "      <th>3</th>\n",
       "      <td>2015-01-01 03:00:00</td>\n",
       "      <td>1951.315903</td>\n",
       "      <td>29.744690</td>\n",
       "      <td>69.338933</td>\n",
       "      <td>20.624899</td>\n",
       "      <td>4.982557</td>\n",
       "      <td>1</td>\n",
       "      <td>1</td>\n",
       "      <td>155.461630</td>\n",
       "      <td>East</td>\n",
       "      <td>0.049135</td>\n",
       "    </tr>\n",
       "    <tr>\n",
       "      <th>4</th>\n",
       "      <td>2015-01-01 04:00:00</td>\n",
       "      <td>614.501023</td>\n",
       "      <td>28.058788</td>\n",
       "      <td>33.189133</td>\n",
       "      <td>11.544552</td>\n",
       "      <td>3.864432</td>\n",
       "      <td>1</td>\n",
       "      <td>0</td>\n",
       "      <td>349.055289</td>\n",
       "      <td>West</td>\n",
       "      <td>0.023726</td>\n",
       "    </tr>\n",
       "  </tbody>\n",
       "</table>\n",
       "</div>"
      ],
      "text/plain": [
       "             Timestamp  Power Load (MW)  Temperature (°C)  Humidity (%)  \\\n",
       "0  2015-01-01 00:00:00       918.373818         38.253605     89.370481   \n",
       "1  2015-01-01 01:00:00      1843.312844         15.214944     82.738678   \n",
       "2  2015-01-01 02:00:00      1180.126923         15.070492     20.579996   \n",
       "3  2015-01-01 03:00:00      1951.315903         29.744690     69.338933   \n",
       "4  2015-01-01 04:00:00       614.501023         28.058788     33.189133   \n",
       "\n",
       "   Wind Speed (km/h)  Rain (mm)  Public Holiday (0/1)  Weekday/Weekend (0/1)  \\\n",
       "0           0.280318   8.062136                     1                      1   \n",
       "1           6.643337   2.924700                     0                      0   \n",
       "2          10.830845   9.643237                     0                      0   \n",
       "3          20.624899   4.982557                     1                      1   \n",
       "4          11.544552   3.864432                     1                      0   \n",
       "\n",
       "   Solar Generation (MW) Region  Population Growth Rate (%)  \n",
       "0             353.567576  South                    0.045795  \n",
       "1             365.597743   East                    0.030522  \n",
       "2             276.744449   East                    0.041935  \n",
       "3             155.461630   East                    0.049135  \n",
       "4             349.055289   West                    0.023726  "
      ]
     },
     "execution_count": 2,
     "metadata": {},
     "output_type": "execute_result"
    }
   ],
   "source": [
    "data=pd.read_csv(\"C:/Users/absub/Downloads/electricity_data1.csv\")\n",
    "data.head()"
   ]
  },
  {
   "cell_type": "code",
   "execution_count": 3,
   "id": "608d3554-724c-4989-bdb1-1ee5e1d8566d",
   "metadata": {},
   "outputs": [
    {
     "data": {
      "text/plain": [
       "(85417, 11)"
      ]
     },
     "execution_count": 3,
     "metadata": {},
     "output_type": "execute_result"
    }
   ],
   "source": [
    "data.shape"
   ]
  },
  {
   "cell_type": "code",
   "execution_count": 4,
   "id": "979de466-e948-4296-9e5e-678e769cc6a2",
   "metadata": {},
   "outputs": [
    {
     "data": {
      "text/html": [
       "<div>\n",
       "<style scoped>\n",
       "    .dataframe tbody tr th:only-of-type {\n",
       "        vertical-align: middle;\n",
       "    }\n",
       "\n",
       "    .dataframe tbody tr th {\n",
       "        vertical-align: top;\n",
       "    }\n",
       "\n",
       "    .dataframe thead th {\n",
       "        text-align: right;\n",
       "    }\n",
       "</style>\n",
       "<table border=\"1\" class=\"dataframe\">\n",
       "  <thead>\n",
       "    <tr style=\"text-align: right;\">\n",
       "      <th></th>\n",
       "      <th>Timestamp</th>\n",
       "      <th>Power Load (MW)</th>\n",
       "      <th>Temperature (°C)</th>\n",
       "      <th>Humidity (%)</th>\n",
       "      <th>Wind Speed (km/h)</th>\n",
       "      <th>Rain (mm)</th>\n",
       "      <th>Public Holiday (0/1)</th>\n",
       "      <th>Weekday/Weekend (0/1)</th>\n",
       "      <th>Solar Generation (MW)</th>\n",
       "      <th>Region</th>\n",
       "      <th>Population Growth Rate (%)</th>\n",
       "      <th>hour</th>\n",
       "      <th>day_of_week</th>\n",
       "      <th>month</th>\n",
       "    </tr>\n",
       "  </thead>\n",
       "  <tbody>\n",
       "    <tr>\n",
       "      <th>0</th>\n",
       "      <td>2015-01-01 00:00:00</td>\n",
       "      <td>918.373818</td>\n",
       "      <td>38.253605</td>\n",
       "      <td>89.370481</td>\n",
       "      <td>0.280318</td>\n",
       "      <td>8.062136</td>\n",
       "      <td>1</td>\n",
       "      <td>1</td>\n",
       "      <td>353.567576</td>\n",
       "      <td>South</td>\n",
       "      <td>0.045795</td>\n",
       "      <td>0</td>\n",
       "      <td>3</td>\n",
       "      <td>1</td>\n",
       "    </tr>\n",
       "    <tr>\n",
       "      <th>1</th>\n",
       "      <td>2015-01-01 01:00:00</td>\n",
       "      <td>1843.312844</td>\n",
       "      <td>15.214944</td>\n",
       "      <td>82.738678</td>\n",
       "      <td>6.643337</td>\n",
       "      <td>2.924700</td>\n",
       "      <td>0</td>\n",
       "      <td>0</td>\n",
       "      <td>365.597743</td>\n",
       "      <td>East</td>\n",
       "      <td>0.030522</td>\n",
       "      <td>1</td>\n",
       "      <td>3</td>\n",
       "      <td>1</td>\n",
       "    </tr>\n",
       "    <tr>\n",
       "      <th>2</th>\n",
       "      <td>2015-01-01 02:00:00</td>\n",
       "      <td>1180.126923</td>\n",
       "      <td>15.070492</td>\n",
       "      <td>20.579996</td>\n",
       "      <td>10.830845</td>\n",
       "      <td>9.643237</td>\n",
       "      <td>0</td>\n",
       "      <td>0</td>\n",
       "      <td>276.744449</td>\n",
       "      <td>East</td>\n",
       "      <td>0.041935</td>\n",
       "      <td>2</td>\n",
       "      <td>3</td>\n",
       "      <td>1</td>\n",
       "    </tr>\n",
       "    <tr>\n",
       "      <th>3</th>\n",
       "      <td>2015-01-01 03:00:00</td>\n",
       "      <td>1951.315903</td>\n",
       "      <td>29.744690</td>\n",
       "      <td>69.338933</td>\n",
       "      <td>20.624899</td>\n",
       "      <td>4.982557</td>\n",
       "      <td>1</td>\n",
       "      <td>1</td>\n",
       "      <td>155.461630</td>\n",
       "      <td>East</td>\n",
       "      <td>0.049135</td>\n",
       "      <td>3</td>\n",
       "      <td>3</td>\n",
       "      <td>1</td>\n",
       "    </tr>\n",
       "    <tr>\n",
       "      <th>4</th>\n",
       "      <td>2015-01-01 04:00:00</td>\n",
       "      <td>614.501023</td>\n",
       "      <td>28.058788</td>\n",
       "      <td>33.189133</td>\n",
       "      <td>11.544552</td>\n",
       "      <td>3.864432</td>\n",
       "      <td>1</td>\n",
       "      <td>0</td>\n",
       "      <td>349.055289</td>\n",
       "      <td>West</td>\n",
       "      <td>0.023726</td>\n",
       "      <td>4</td>\n",
       "      <td>3</td>\n",
       "      <td>1</td>\n",
       "    </tr>\n",
       "  </tbody>\n",
       "</table>\n",
       "</div>"
      ],
      "text/plain": [
       "             Timestamp  Power Load (MW)  Temperature (°C)  Humidity (%)  \\\n",
       "0  2015-01-01 00:00:00       918.373818         38.253605     89.370481   \n",
       "1  2015-01-01 01:00:00      1843.312844         15.214944     82.738678   \n",
       "2  2015-01-01 02:00:00      1180.126923         15.070492     20.579996   \n",
       "3  2015-01-01 03:00:00      1951.315903         29.744690     69.338933   \n",
       "4  2015-01-01 04:00:00       614.501023         28.058788     33.189133   \n",
       "\n",
       "   Wind Speed (km/h)  Rain (mm)  Public Holiday (0/1)  Weekday/Weekend (0/1)  \\\n",
       "0           0.280318   8.062136                     1                      1   \n",
       "1           6.643337   2.924700                     0                      0   \n",
       "2          10.830845   9.643237                     0                      0   \n",
       "3          20.624899   4.982557                     1                      1   \n",
       "4          11.544552   3.864432                     1                      0   \n",
       "\n",
       "   Solar Generation (MW) Region  Population Growth Rate (%)  hour  \\\n",
       "0             353.567576  South                    0.045795     0   \n",
       "1             365.597743   East                    0.030522     1   \n",
       "2             276.744449   East                    0.041935     2   \n",
       "3             155.461630   East                    0.049135     3   \n",
       "4             349.055289   West                    0.023726     4   \n",
       "\n",
       "   day_of_week  month  \n",
       "0            3      1  \n",
       "1            3      1  \n",
       "2            3      1  \n",
       "3            3      1  \n",
       "4            3      1  "
      ]
     },
     "execution_count": 4,
     "metadata": {},
     "output_type": "execute_result"
    }
   ],
   "source": [
    "# Feature Engineering (assuming the dataset has timestamp and other features)\n",
    "data['hour'] = pd.to_datetime(data['Timestamp']).dt.hour\n",
    "data['day_of_week'] = pd.to_datetime(data['Timestamp']).dt.dayofweek\n",
    "data['month'] = pd.to_datetime(data['Timestamp']).dt.month\n",
    "data.head()"
   ]
  },
  {
   "cell_type": "code",
   "execution_count": 5,
   "id": "ce927de9-8e7b-4514-8976-979bdf3e9dad",
   "metadata": {},
   "outputs": [],
   "source": [
    "# Select features (including Region) and target\n",
    "X = data[['Temperature (°C)','Humidity (%)','Wind Speed (km/h)','Rain (mm)','Public Holiday (0/1)','Weekday/Weekend (0/1)',\n",
    "          'Solar Generation (MW)','Region','Population Growth Rate (%)','hour','day_of_week','month']]\n",
    "y = data['Power Load (MW)']"
   ]
  },
  {
   "cell_type": "code",
   "execution_count": 6,
   "id": "d3c334c8-56d2-4b39-9030-003502b72835",
   "metadata": {},
   "outputs": [
    {
     "name": "stdout",
     "output_type": "stream",
     "text": [
      "(85417, 12)\n",
      "(85417,)\n"
     ]
    }
   ],
   "source": [
    "print(X.shape)\n",
    "print(y.shape)"
   ]
  },
  {
   "cell_type": "code",
   "execution_count": 7,
   "id": "4698a408-128b-4475-84db-a903a800cc1a",
   "metadata": {},
   "outputs": [],
   "source": [
    "# Example of label encoding for 'Region' to avoid expanding columns\n",
    "label_encoder = LabelEncoder()\n",
    "data['Region'] = label_encoder.fit_transform(data['Region'])\n",
    "#print(data['Region'])"
   ]
  },
  {
   "cell_type": "code",
   "execution_count": 8,
   "id": "26db3b90-bd76-43c6-8d71-c6018df91de2",
   "metadata": {},
   "outputs": [],
   "source": [
    "# List of numerical features to be scaled\n",
    "numerical_features = ['Temperature (°C)', 'Humidity (%)', 'Wind Speed (km/h)', \n",
    "                      'Rain (mm)', 'Public Holiday (0/1)', 'Weekday/Weekend (0/1)',\n",
    "                      'Solar Generation (MW)', 'Population Growth Rate (%)', \n",
    "                      'hour', 'day_of_week', 'month']"
   ]
  },
  {
   "cell_type": "code",
   "execution_count": 9,
   "id": "20d8f965-1381-4440-ba88-a566881cd76b",
   "metadata": {},
   "outputs": [],
   "source": [
    "# Initialize the scaler\n",
    "scaler = MinMaxScaler()"
   ]
  },
  {
   "cell_type": "code",
   "execution_count": 10,
   "id": "a7576370-ed5e-4924-a5fb-7cc61f28936a",
   "metadata": {},
   "outputs": [],
   "source": [
    "# Apply scaling to the numerical features\n",
    "data[numerical_features] = scaler.fit_transform(data[numerical_features])"
   ]
  },
  {
   "cell_type": "code",
   "execution_count": 11,
   "id": "610d5593-d9cc-44c2-bc78-e748aa8cedc7",
   "metadata": {},
   "outputs": [],
   "source": [
    "# Split into training and test sets\n",
    "X_train, X_test, y_train, y_test = train_test_split(X, y, test_size=0.2, random_state=42)"
   ]
  },
  {
   "cell_type": "code",
   "execution_count": 12,
   "id": "b3a5aff8-3d03-49d2-a453-839c30542c0f",
   "metadata": {},
   "outputs": [],
   "source": [
    "# Apply label encoding to the 'Region' column\n",
    "X_train['Region'] = label_encoder.fit_transform(X_train['Region'])\n",
    "X_test['Region'] = label_encoder.transform(X_test['Region'])"
   ]
  },
  {
   "cell_type": "markdown",
   "id": "d2338110-7ff8-4bca-871f-c4d71f6eb4c9",
   "metadata": {},
   "source": [
    "LSTM-->Long Short Term Memory"
   ]
  },
  {
   "cell_type": "code",
   "execution_count": 13,
   "id": "32d9d65f-07ed-4560-9c44-60cf648eb598",
   "metadata": {},
   "outputs": [],
   "source": [
    "# Convert DataFrame to NumPy array\n",
    "X_train = X_train.values\n",
    "X_test= X_test.values"
   ]
  },
  {
   "cell_type": "code",
   "execution_count": 14,
   "id": "88151c0f-8e9d-42c8-ae61-9168af8684c9",
   "metadata": {},
   "outputs": [],
   "source": [
    "# Reshape to 3D: (samples, time steps, features)\n",
    "X_train = X_train.reshape((X_train.shape[0], 1, X_train.shape[1]))\n",
    "X_test = X_test.reshape((X_test.shape[0], 1, X_test.shape[1]))"
   ]
  },
  {
   "cell_type": "code",
   "execution_count": 15,
   "id": "55ec0fcf-fe6f-4369-a7c4-b07875cf46ed",
   "metadata": {},
   "outputs": [
    {
     "name": "stdout",
     "output_type": "stream",
     "text": [
      "(68333, 1, 12)\n"
     ]
    }
   ],
   "source": [
    "print(X_train.shape) "
   ]
  },
  {
   "cell_type": "code",
   "execution_count": 16,
   "id": "cecb33ae-6438-4062-8df0-16ee457f5c9d",
   "metadata": {},
   "outputs": [],
   "source": [
    "# Define LSTM model\n",
    "lstm_model = Sequential()"
   ]
  },
  {
   "cell_type": "code",
   "execution_count": 17,
   "id": "b9d6bc38-28fb-455b-bc9a-480aea6c3d18",
   "metadata": {},
   "outputs": [
    {
     "name": "stderr",
     "output_type": "stream",
     "text": [
      "C:\\Users\\absub\\AppData\\Local\\Programs\\Python\\Python311\\Lib\\site-packages\\keras\\src\\layers\\rnn\\rnn.py:204: UserWarning: Do not pass an `input_shape`/`input_dim` argument to a layer. When using Sequential models, prefer using an `Input(shape)` object as the first layer in the model instead.\n",
      "  super().__init__(**kwargs)\n"
     ]
    }
   ],
   "source": [
    "# Add LSTM layers\n",
    "lstm_model.add(LSTM(100, activation='relu',input_shape=(X_train.shape[1], X_train.shape[2])))\n",
    "lstm_model.add(Dense(50, activation='relu'))\n",
    "lstm_model.add(Dense(1))"
   ]
  },
  {
   "cell_type": "code",
   "execution_count": 18,
   "id": "317236c6-1349-4cb9-89f5-17be7d615c80",
   "metadata": {},
   "outputs": [],
   "source": [
    "# Compile the model\n",
    "lstm_model.compile(optimizer='adam', loss='mean_squared_error')"
   ]
  },
  {
   "cell_type": "code",
   "execution_count": 19,
   "id": "4d61107c-b57e-4787-ad0d-60e3f1fb912c",
   "metadata": {},
   "outputs": [
    {
     "name": "stdout",
     "output_type": "stream",
     "text": [
      "Epoch 1/50\n",
      "\u001b[1m1068/1068\u001b[0m \u001b[32m━━━━━━━━━━━━━━━━━━━━\u001b[0m\u001b[37m\u001b[0m \u001b[1m11s\u001b[0m 4ms/step - loss: 486654.0938 - val_loss: 205964.4844\n",
      "Epoch 2/50\n",
      "\u001b[1m1068/1068\u001b[0m \u001b[32m━━━━━━━━━━━━━━━━━━━━\u001b[0m\u001b[37m\u001b[0m \u001b[1m4s\u001b[0m 4ms/step - loss: 206478.6875 - val_loss: 194800.4688\n",
      "Epoch 3/50\n",
      "\u001b[1m1068/1068\u001b[0m \u001b[32m━━━━━━━━━━━━━━━━━━━━\u001b[0m\u001b[37m\u001b[0m \u001b[1m4s\u001b[0m 3ms/step - loss: 196297.8594 - val_loss: 190117.3750\n",
      "Epoch 4/50\n",
      "\u001b[1m1068/1068\u001b[0m \u001b[32m━━━━━━━━━━━━━━━━━━━━\u001b[0m\u001b[37m\u001b[0m \u001b[1m5s\u001b[0m 3ms/step - loss: 192329.0625 - val_loss: 188833.0781\n",
      "Epoch 5/50\n",
      "\u001b[1m1068/1068\u001b[0m \u001b[32m━━━━━━━━━━━━━━━━━━━━\u001b[0m\u001b[37m\u001b[0m \u001b[1m5s\u001b[0m 3ms/step - loss: 192585.6719 - val_loss: 188657.1406\n",
      "Epoch 6/50\n",
      "\u001b[1m1068/1068\u001b[0m \u001b[32m━━━━━━━━━━━━━━━━━━━━\u001b[0m\u001b[37m\u001b[0m \u001b[1m4s\u001b[0m 4ms/step - loss: 193374.6094 - val_loss: 196744.5312\n",
      "Epoch 7/50\n",
      "\u001b[1m1068/1068\u001b[0m \u001b[32m━━━━━━━━━━━━━━━━━━━━\u001b[0m\u001b[37m\u001b[0m \u001b[1m4s\u001b[0m 3ms/step - loss: 193663.4375 - val_loss: 189406.8438\n",
      "Epoch 8/50\n",
      "\u001b[1m1068/1068\u001b[0m \u001b[32m━━━━━━━━━━━━━━━━━━━━\u001b[0m\u001b[37m\u001b[0m \u001b[1m5s\u001b[0m 3ms/step - loss: 191938.5156 - val_loss: 188251.4844\n",
      "Epoch 9/50\n",
      "\u001b[1m1068/1068\u001b[0m \u001b[32m━━━━━━━━━━━━━━━━━━━━\u001b[0m\u001b[37m\u001b[0m \u001b[1m4s\u001b[0m 3ms/step - loss: 192745.5000 - val_loss: 190550.6094\n",
      "Epoch 10/50\n",
      "\u001b[1m1068/1068\u001b[0m \u001b[32m━━━━━━━━━━━━━━━━━━━━\u001b[0m\u001b[37m\u001b[0m \u001b[1m4s\u001b[0m 4ms/step - loss: 191732.4062 - val_loss: 189899.8438\n",
      "Epoch 11/50\n",
      "\u001b[1m1068/1068\u001b[0m \u001b[32m━━━━━━━━━━━━━━━━━━━━\u001b[0m\u001b[37m\u001b[0m \u001b[1m4s\u001b[0m 4ms/step - loss: 191713.1719 - val_loss: 189998.1562\n",
      "Epoch 12/50\n",
      "\u001b[1m1068/1068\u001b[0m \u001b[32m━━━━━━━━━━━━━━━━━━━━\u001b[0m\u001b[37m\u001b[0m \u001b[1m4s\u001b[0m 3ms/step - loss: 193402.2969 - val_loss: 191653.8438\n",
      "Epoch 13/50\n",
      "\u001b[1m1068/1068\u001b[0m \u001b[32m━━━━━━━━━━━━━━━━━━━━\u001b[0m\u001b[37m\u001b[0m \u001b[1m4s\u001b[0m 3ms/step - loss: 191155.0625 - val_loss: 192103.2344\n",
      "Epoch 14/50\n",
      "\u001b[1m1068/1068\u001b[0m \u001b[32m━━━━━━━━━━━━━━━━━━━━\u001b[0m\u001b[37m\u001b[0m \u001b[1m4s\u001b[0m 3ms/step - loss: 191236.4062 - val_loss: 199430.2500\n",
      "Epoch 15/50\n",
      "\u001b[1m1068/1068\u001b[0m \u001b[32m━━━━━━━━━━━━━━━━━━━━\u001b[0m\u001b[37m\u001b[0m \u001b[1m4s\u001b[0m 4ms/step - loss: 192630.9062 - val_loss: 198484.5156\n",
      "Epoch 16/50\n",
      "\u001b[1m1068/1068\u001b[0m \u001b[32m━━━━━━━━━━━━━━━━━━━━\u001b[0m\u001b[37m\u001b[0m \u001b[1m5s\u001b[0m 3ms/step - loss: 191718.2031 - val_loss: 189394.3281\n",
      "Epoch 17/50\n",
      "\u001b[1m1068/1068\u001b[0m \u001b[32m━━━━━━━━━━━━━━━━━━━━\u001b[0m\u001b[37m\u001b[0m \u001b[1m5s\u001b[0m 4ms/step - loss: 191650.6562 - val_loss: 188432.1562\n",
      "Epoch 18/50\n",
      "\u001b[1m1068/1068\u001b[0m \u001b[32m━━━━━━━━━━━━━━━━━━━━\u001b[0m\u001b[37m\u001b[0m \u001b[1m5s\u001b[0m 3ms/step - loss: 191585.5156 - val_loss: 188983.5312\n",
      "Epoch 19/50\n",
      "\u001b[1m1068/1068\u001b[0m \u001b[32m━━━━━━━━━━━━━━━━━━━━\u001b[0m\u001b[37m\u001b[0m \u001b[1m4s\u001b[0m 4ms/step - loss: 191763.6875 - val_loss: 192782.7656\n",
      "Epoch 20/50\n",
      "\u001b[1m1068/1068\u001b[0m \u001b[32m━━━━━━━━━━━━━━━━━━━━\u001b[0m\u001b[37m\u001b[0m \u001b[1m4s\u001b[0m 4ms/step - loss: 191508.4219 - val_loss: 187739.4844\n",
      "Epoch 21/50\n",
      "\u001b[1m1068/1068\u001b[0m \u001b[32m━━━━━━━━━━━━━━━━━━━━\u001b[0m\u001b[37m\u001b[0m \u001b[1m4s\u001b[0m 4ms/step - loss: 193392.9375 - val_loss: 193319.0781\n",
      "Epoch 22/50\n",
      "\u001b[1m1068/1068\u001b[0m \u001b[32m━━━━━━━━━━━━━━━━━━━━\u001b[0m\u001b[37m\u001b[0m \u001b[1m5s\u001b[0m 3ms/step - loss: 191516.2188 - val_loss: 188412.8438\n",
      "Epoch 23/50\n",
      "\u001b[1m1068/1068\u001b[0m \u001b[32m━━━━━━━━━━━━━━━━━━━━\u001b[0m\u001b[37m\u001b[0m \u001b[1m5s\u001b[0m 4ms/step - loss: 191903.4688 - val_loss: 189630.1250\n",
      "Epoch 24/50\n",
      "\u001b[1m1068/1068\u001b[0m \u001b[32m━━━━━━━━━━━━━━━━━━━━\u001b[0m\u001b[37m\u001b[0m \u001b[1m4s\u001b[0m 4ms/step - loss: 190904.4062 - val_loss: 188582.9531\n",
      "Epoch 25/50\n",
      "\u001b[1m1068/1068\u001b[0m \u001b[32m━━━━━━━━━━━━━━━━━━━━\u001b[0m\u001b[37m\u001b[0m \u001b[1m5s\u001b[0m 4ms/step - loss: 192237.9219 - val_loss: 190800.6406\n",
      "Epoch 26/50\n",
      "\u001b[1m1068/1068\u001b[0m \u001b[32m━━━━━━━━━━━━━━━━━━━━\u001b[0m\u001b[37m\u001b[0m \u001b[1m5s\u001b[0m 4ms/step - loss: 192647.7500 - val_loss: 195248.8281\n",
      "Epoch 27/50\n",
      "\u001b[1m1068/1068\u001b[0m \u001b[32m━━━━━━━━━━━━━━━━━━━━\u001b[0m\u001b[37m\u001b[0m \u001b[1m5s\u001b[0m 3ms/step - loss: 192627.4219 - val_loss: 196251.3125\n",
      "Epoch 28/50\n",
      "\u001b[1m1068/1068\u001b[0m \u001b[32m━━━━━━━━━━━━━━━━━━━━\u001b[0m\u001b[37m\u001b[0m \u001b[1m5s\u001b[0m 4ms/step - loss: 192213.0938 - val_loss: 189612.6719\n",
      "Epoch 29/50\n",
      "\u001b[1m1068/1068\u001b[0m \u001b[32m━━━━━━━━━━━━━━━━━━━━\u001b[0m\u001b[37m\u001b[0m \u001b[1m5s\u001b[0m 4ms/step - loss: 190971.2188 - val_loss: 187744.0781\n",
      "Epoch 30/50\n",
      "\u001b[1m1068/1068\u001b[0m \u001b[32m━━━━━━━━━━━━━━━━━━━━\u001b[0m\u001b[37m\u001b[0m \u001b[1m4s\u001b[0m 4ms/step - loss: 192225.0781 - val_loss: 187888.7969\n",
      "Epoch 31/50\n",
      "\u001b[1m1068/1068\u001b[0m \u001b[32m━━━━━━━━━━━━━━━━━━━━\u001b[0m\u001b[37m\u001b[0m \u001b[1m5s\u001b[0m 4ms/step - loss: 190511.1875 - val_loss: 188037.4531\n",
      "Epoch 32/50\n",
      "\u001b[1m1068/1068\u001b[0m \u001b[32m━━━━━━━━━━━━━━━━━━━━\u001b[0m\u001b[37m\u001b[0m \u001b[1m4s\u001b[0m 4ms/step - loss: 190794.7656 - val_loss: 188263.3750\n",
      "Epoch 33/50\n",
      "\u001b[1m1068/1068\u001b[0m \u001b[32m━━━━━━━━━━━━━━━━━━━━\u001b[0m\u001b[37m\u001b[0m \u001b[1m4s\u001b[0m 4ms/step - loss: 191696.5781 - val_loss: 190057.3906\n",
      "Epoch 34/50\n",
      "\u001b[1m1068/1068\u001b[0m \u001b[32m━━━━━━━━━━━━━━━━━━━━\u001b[0m\u001b[37m\u001b[0m \u001b[1m4s\u001b[0m 4ms/step - loss: 191471.3281 - val_loss: 195070.8906\n",
      "Epoch 35/50\n",
      "\u001b[1m1068/1068\u001b[0m \u001b[32m━━━━━━━━━━━━━━━━━━━━\u001b[0m\u001b[37m\u001b[0m \u001b[1m4s\u001b[0m 4ms/step - loss: 191256.5625 - val_loss: 188354.9531\n",
      "Epoch 36/50\n",
      "\u001b[1m1068/1068\u001b[0m \u001b[32m━━━━━━━━━━━━━━━━━━━━\u001b[0m\u001b[37m\u001b[0m \u001b[1m5s\u001b[0m 4ms/step - loss: 190701.5781 - val_loss: 194901.9219\n",
      "Epoch 37/50\n",
      "\u001b[1m1068/1068\u001b[0m \u001b[32m━━━━━━━━━━━━━━━━━━━━\u001b[0m\u001b[37m\u001b[0m \u001b[1m4s\u001b[0m 4ms/step - loss: 191958.7812 - val_loss: 191602.0469\n",
      "Epoch 38/50\n",
      "\u001b[1m1068/1068\u001b[0m \u001b[32m━━━━━━━━━━━━━━━━━━━━\u001b[0m\u001b[37m\u001b[0m \u001b[1m4s\u001b[0m 4ms/step - loss: 190050.5938 - val_loss: 188522.9062\n",
      "Epoch 39/50\n",
      "\u001b[1m1068/1068\u001b[0m \u001b[32m━━━━━━━━━━━━━━━━━━━━\u001b[0m\u001b[37m\u001b[0m \u001b[1m4s\u001b[0m 4ms/step - loss: 191341.0000 - val_loss: 187794.1094\n",
      "Epoch 40/50\n",
      "\u001b[1m1068/1068\u001b[0m \u001b[32m━━━━━━━━━━━━━━━━━━━━\u001b[0m\u001b[37m\u001b[0m \u001b[1m4s\u001b[0m 4ms/step - loss: 190930.0938 - val_loss: 188008.8281\n",
      "Epoch 41/50\n",
      "\u001b[1m1068/1068\u001b[0m \u001b[32m━━━━━━━━━━━━━━━━━━━━\u001b[0m\u001b[37m\u001b[0m \u001b[1m4s\u001b[0m 4ms/step - loss: 191428.9531 - val_loss: 188269.4219\n",
      "Epoch 42/50\n",
      "\u001b[1m1068/1068\u001b[0m \u001b[32m━━━━━━━━━━━━━━━━━━━━\u001b[0m\u001b[37m\u001b[0m \u001b[1m4s\u001b[0m 4ms/step - loss: 190502.7188 - val_loss: 189706.3438\n",
      "Epoch 43/50\n",
      "\u001b[1m1068/1068\u001b[0m \u001b[32m━━━━━━━━━━━━━━━━━━━━\u001b[0m\u001b[37m\u001b[0m \u001b[1m4s\u001b[0m 4ms/step - loss: 191305.0938 - val_loss: 188304.0781\n",
      "Epoch 44/50\n",
      "\u001b[1m1068/1068\u001b[0m \u001b[32m━━━━━━━━━━━━━━━━━━━━\u001b[0m\u001b[37m\u001b[0m \u001b[1m4s\u001b[0m 4ms/step - loss: 191867.7188 - val_loss: 188039.1719\n",
      "Epoch 45/50\n",
      "\u001b[1m1068/1068\u001b[0m \u001b[32m━━━━━━━━━━━━━━━━━━━━\u001b[0m\u001b[37m\u001b[0m \u001b[1m4s\u001b[0m 4ms/step - loss: 190768.1250 - val_loss: 189817.1719\n",
      "Epoch 46/50\n",
      "\u001b[1m1068/1068\u001b[0m \u001b[32m━━━━━━━━━━━━━━━━━━━━\u001b[0m\u001b[37m\u001b[0m \u001b[1m4s\u001b[0m 4ms/step - loss: 191063.1250 - val_loss: 188687.6094\n",
      "Epoch 47/50\n",
      "\u001b[1m1068/1068\u001b[0m \u001b[32m━━━━━━━━━━━━━━━━━━━━\u001b[0m\u001b[37m\u001b[0m \u001b[1m5s\u001b[0m 4ms/step - loss: 191844.9531 - val_loss: 189154.8125\n",
      "Epoch 48/50\n",
      "\u001b[1m1068/1068\u001b[0m \u001b[32m━━━━━━━━━━━━━━━━━━━━\u001b[0m\u001b[37m\u001b[0m \u001b[1m4s\u001b[0m 4ms/step - loss: 191477.0156 - val_loss: 187596.5625\n",
      "Epoch 49/50\n",
      "\u001b[1m1068/1068\u001b[0m \u001b[32m━━━━━━━━━━━━━━━━━━━━\u001b[0m\u001b[37m\u001b[0m \u001b[1m4s\u001b[0m 4ms/step - loss: 191767.5781 - val_loss: 189232.5469\n",
      "Epoch 50/50\n",
      "\u001b[1m1068/1068\u001b[0m \u001b[32m━━━━━━━━━━━━━━━━━━━━\u001b[0m\u001b[37m\u001b[0m \u001b[1m4s\u001b[0m 4ms/step - loss: 191515.5000 - val_loss: 187790.6562\n"
     ]
    },
    {
     "data": {
      "text/plain": [
       "<keras.src.callbacks.history.History at 0x1b21833b010>"
      ]
     },
     "execution_count": 19,
     "metadata": {},
     "output_type": "execute_result"
    }
   ],
   "source": [
    "# Train the model\n",
    "lstm_model.fit(X_train, y_train, epochs=50, batch_size=64, validation_data=(X_test, y_test))"
   ]
  },
  {
   "cell_type": "code",
   "execution_count": 20,
   "id": "b4383449-f619-467f-9527-e0a7bb46a224",
   "metadata": {},
   "outputs": [
    {
     "name": "stdout",
     "output_type": "stream",
     "text": [
      "\u001b[1m534/534\u001b[0m \u001b[32m━━━━━━━━━━━━━━━━━━━━\u001b[0m\u001b[37m\u001b[0m \u001b[1m3s\u001b[0m 2ms/step\n",
      "LSTM RMSE: 433.3481878389035\n"
     ]
    }
   ],
   "source": [
    "# Predict and evaluate\n",
    "lstm_y_pred = lstm_model.predict(X_test)\n",
    "lstm_rmse = np.sqrt(np.mean((y_test - lstm_y_pred.reshape(-1))**2))\n",
    "print(f'LSTM RMSE: {lstm_rmse}')"
   ]
  },
  {
   "cell_type": "code",
   "execution_count": 21,
   "id": "246a1830-9e4e-4630-b431-1f34c8a21ead",
   "metadata": {},
   "outputs": [],
   "source": [
    "# Example input factors (reshaped to match LSTM's input requirements)\n",
    "new_data =np.array([[\n",
    "    40, # Temperature\n",
    "    65,  # Humidity\n",
    "    15,  # Wind Speed\n",
    "    0,   # Rain (mm)\n",
    "    0,   # Public Holiday (0 or 1)\n",
    "    1,   # Weekday/Weekend (0 or 1)\n",
    "    120, # Solar Generation (MW)\n",
    "    2,    # Region (encoded)\n",
    "    1.2, # Population Growth Rate\n",
    "    12,  # Hour of the day\n",
    "    2,   # Day of the week\n",
    "    9   # Month\n",
    "]])"
   ]
  },
  {
   "cell_type": "code",
   "execution_count": 22,
   "id": "acd6442b-5fcc-446d-b9dd-d1b00157816b",
   "metadata": {},
   "outputs": [],
   "source": [
    "# Reshape to (samples, time_steps, features)\n",
    "new_data = new_data.reshape((1, 1, new_data.shape[1]))  # (1 sample, 1 time step, 12 features)"
   ]
  },
  {
   "cell_type": "code",
   "execution_count": 23,
   "id": "cab1acde-4f19-4fd2-af25-07808eec3f49",
   "metadata": {},
   "outputs": [
    {
     "name": "stdout",
     "output_type": "stream",
     "text": [
      "\u001b[1m1/1\u001b[0m \u001b[32m━━━━━━━━━━━━━━━━━━━━\u001b[0m\u001b[37m\u001b[0m \u001b[1m1s\u001b[0m 593ms/step\n"
     ]
    }
   ],
   "source": [
    "predicted_power_load = lstm_model.predict(new_data)"
   ]
  },
  {
   "cell_type": "code",
   "execution_count": 24,
   "id": "bceaae42-23ec-4a6f-8896-2ac5be9a4085",
   "metadata": {},
   "outputs": [
    {
     "name": "stdout",
     "output_type": "stream",
     "text": [
      "Predicted Power Load (MW): 1447.464599609375\n"
     ]
    }
   ],
   "source": [
    "print(f\"Predicted Power Load (MW): {predicted_power_load[0][0]}\")"
   ]
  },
  {
   "cell_type": "code",
   "execution_count": null,
   "id": "d1f3d2ff-920b-4e7b-969a-66ea9aa1e04a",
   "metadata": {},
   "outputs": [],
   "source": []
  }
 ],
 "metadata": {
  "kernelspec": {
   "display_name": "Python 3 (ipykernel)",
   "language": "python",
   "name": "python3"
  },
  "language_info": {
   "codemirror_mode": {
    "name": "ipython",
    "version": 3
   },
   "file_extension": ".py",
   "mimetype": "text/x-python",
   "name": "python",
   "nbconvert_exporter": "python",
   "pygments_lexer": "ipython3",
   "version": "3.11.4"
  }
 },
 "nbformat": 4,
 "nbformat_minor": 5
}
